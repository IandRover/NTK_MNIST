{
  "cells": [
    {
      "cell_type": "markdown",
      "metadata": {
        "id": "view-in-github",
        "colab_type": "text"
      },
      "source": [
        "<a href=\"https://colab.research.google.com/github/IandRover/NTK_MNIST/blob/main/NTK_MNIST.ipynb\" target=\"_parent\"><img src=\"https://colab.research.google.com/assets/colab-badge.svg\" alt=\"Open In Colab\"/></a>"
      ]
    },
    {
      "cell_type": "markdown",
      "source": [
        "# Motivation\n",
        "\n",
        "I am very interested in the mathematical mechanism and dynamic changes behind MNIST and NTK, and I am also curious about the working principle behind GP. However, I have not found the experimental results of using NTK on the MNIST dataset on the Internet. So, I share the code I compiled, hoping to promote understanding of NTK.\n",
        "\n",
        "This work is primarily based on [this notebook](https://github.com/erees1/NNGP/blob/master/nngp_experiments.ipynb), the implementation of paper \"[Deep Neural Networks as Gaussian Processes](https://arxiv.org/abs/1711.00165)\". The original author used tensorflow to write the neural network model and NTK, and I rewritten it into [Jax](https://github.com/google/jax) and [Neural Tangents](https://github.com/google/neural-tangents) code, and referenced [this notebook](https://github.com/google/jax/blob/main/examples/mnist_classifier.py) a lot at the same time."
      ],
      "metadata": {
        "id": "jLfbHP9-DR_G"
      },
      "id": "jLfbHP9-DR_G"
    },
    {
      "cell_type": "markdown",
      "id": "e7b96cd1",
      "metadata": {
        "id": "e7b96cd1"
      },
      "source": [
        "# Setup Environment"
      ]
    },
    {
      "cell_type": "code",
      "source": [
        "!pip install neural-tangents\n",
        "!git clone https://github.com/google/jax.git\n",
        "import os, shutil\n",
        "!mv jax/examples examples"
      ],
      "metadata": {
        "id": "9PxqnXdCWQtw"
      },
      "id": "9PxqnXdCWQtw",
      "execution_count": null,
      "outputs": []
    },
    {
      "cell_type": "code",
      "source": [
        "import itertools\n",
        "import pandas as pd\n",
        "\n",
        "import numpy.random as npr\n",
        "import numpy\n",
        "\n",
        "import jax.numpy as jnp\n",
        "from jax import jit, grad, random\n",
        "from jax.example_libraries import optimizers, stax\n",
        "from jax.example_libraries.stax import Dense, Relu, LogSoftmax\n",
        "from examples import datasets\n",
        "\n",
        "from neural_tangents import stax as nt_stax\n",
        "import neural_tangents as nt"
      ],
      "metadata": {
        "id": "8y1tIvR1nt8K"
      },
      "id": "8y1tIvR1nt8K",
      "execution_count": 2,
      "outputs": []
    },
    {
      "cell_type": "code",
      "source": [
        "from bokeh.plotting import figure, output_notebook, show, output_file, save\n",
        "from bokeh.layouts import gridplot\n",
        "from bokeh.palettes import Category10, RdBu, Bokeh, RdYlGn, RdGy, RdYlBu, Spectral\n",
        "from bokeh.models import Legend\n",
        "import bokeh.io\n",
        "bokeh.io.reset_output()\n",
        "bokeh.io.output_notebook()"
      ],
      "metadata": {
        "id": "DZsiS786mYVN"
      },
      "id": "DZsiS786mYVN",
      "execution_count": 3,
      "outputs": []
    },
    {
      "cell_type": "markdown",
      "source": [
        "# Define Useful Functions"
      ],
      "metadata": {
        "id": "HtScZaylB9E1"
      },
      "id": "HtScZaylB9E1"
    },
    {
      "cell_type": "code",
      "source": [
        "def loss(params, batch, predict):\n",
        "  inputs, targets = batch\n",
        "  preds = predict(params, inputs)\n",
        "  return -jnp.mean(jnp.sum(preds * targets, axis=1))\n",
        "\n",
        "def accuracy(params, batch, predict):\n",
        "  inputs, targets = batch\n",
        "  target_class = jnp.argmax(targets, axis=1)\n",
        "  predicted_class = jnp.argmax(predict(params, inputs), axis=1)\n",
        "  return jnp.mean(predicted_class == target_class)\n",
        "\n",
        "def get_nn(width):\n",
        "    init_random_params, predict = stax.serial(Dense(width), Relu, Dense(width), Relu, Dense(10), LogSoftmax)\n",
        "    return init_random_params, predict\n",
        "\n",
        "def data_stream(train_images_n, train_labels_n):\n",
        "    num_train = len(train_labels_n)\n",
        "    num_batches = num_train//batch_size\n",
        "    rng = npr.RandomState(0)\n",
        "    while True:\n",
        "        perm = rng.permutation(num_train)\n",
        "        for i in range(num_batches):\n",
        "            batch_idx = perm[i * batch_size:(i + 1) * batch_size]\n",
        "            yield train_images_n[batch_idx], train_labels_n[batch_idx]\n",
        "\n",
        "@jit\n",
        "def update(i, opt_state, batch): return opt_update(i, grad(loss)(get_params(opt_state), batch), opt_state)\n",
        "\n",
        "def df_append(df, data): df.loc[len(df)] = data"
      ],
      "metadata": {
        "id": "cKKked7inxsL"
      },
      "id": "cKKked7inxsL",
      "execution_count": 4,
      "outputs": []
    },
    {
      "cell_type": "code",
      "source": [
        "train_images, train_labels, test_images, test_labels = datasets.mnist()\n",
        "# Fix testing dataset size\n",
        "test_images, test_labels = test_images[:1000], test_labels[:1000]\n",
        "\n",
        "widths = [2**i for i in range(6, 12)]\n",
        "dataset_size = [2**i for i in range(6, 12)]\n",
        "times = [10**i for i in range(1, 8)]\n",
        "batch_size = 64"
      ],
      "metadata": {
        "id": "Mu1GPPjBgzL3"
      },
      "id": "Mu1GPPjBgzL3",
      "execution_count": null,
      "outputs": []
    },
    {
      "cell_type": "markdown",
      "id": "33d61ac3",
      "metadata": {
        "id": "33d61ac3"
      },
      "source": [
        "# Train Neural Network (NN)"
      ]
    },
    {
      "cell_type": "code",
      "source": [
        "def run_NN():\n",
        "\n",
        "    df_columns = ['activation', 'dataset_size', 'width', 'training_accuracy', 'test_accuracy']\n",
        "    nn_evaluate = pd.DataFrame(columns=df_columns)\n",
        "            \n",
        "    for width in widths:\n",
        "        print(f\"Running width {width}\")\n",
        "\n",
        "        for num_train in dataset_size:\n",
        "\n",
        "            # print(f\" - dataset_size {num_train}\")\n",
        "\n",
        "            init_random_params, predict = get_nn(width)\n",
        "            rng = random.PRNGKey(0) \n",
        "\n",
        "            train_images_n, train_labels_n = train_images[:num_train], train_labels[:num_train]\n",
        "            \n",
        "            num_batches = num_train // batch_size\n",
        "            batches = data_stream(train_images_n, train_labels_n)\n",
        "            \n",
        "            opt_init, opt_update, get_params = optimizers.momentum(step_size=0.001, mass=0.9)\n",
        "            _, init_params = init_random_params(rng, (-1, 28 * 28))\n",
        "            opt_state = opt_init(init_params)\n",
        "            itercount = itertools.count()\n",
        "\n",
        "            for epoch in range(20):\n",
        "                for _ in range(num_batches):\n",
        "                    opt_state = opt_update(iter(itercount), grad(loss)(get_params(opt_state), next(batches), predict), opt_state)\n",
        "\n",
        "            params = get_params(opt_state)\n",
        "            train_acc = numpy.array(accuracy(params, (train_images_n, train_labels_n), predict))\n",
        "            test_acc = numpy.array(accuracy(params, (test_images, test_labels), predict))\n",
        "            df_append(nn_evaluate, [\"relu\", num_train, width, train_acc, test_acc])\n",
        "\n",
        "    return nn_evaluate"
      ],
      "metadata": {
        "id": "_EYeEa9QcyUB"
      },
      "id": "_EYeEa9QcyUB",
      "execution_count": 6,
      "outputs": []
    },
    {
      "cell_type": "code",
      "source": [
        "nn_evaluate = run_NN()"
      ],
      "metadata": {
        "colab": {
          "base_uri": "https://localhost:8080/"
        },
        "id": "6EqyRLX3fobI",
        "outputId": "139765fe-83d6-438d-dc1b-58292246f1e5"
      },
      "id": "6EqyRLX3fobI",
      "execution_count": 7,
      "outputs": [
        {
          "output_type": "stream",
          "name": "stdout",
          "text": [
            "Running width 64\n",
            "Running width 128\n",
            "Running width 256\n",
            "Running width 512\n",
            "Running width 1024\n",
            "Running width 2048\n"
          ]
        }
      ]
    },
    {
      "cell_type": "markdown",
      "source": [
        "# Obtain Neural Tangent Kernel (NTK)"
      ],
      "metadata": {
        "id": "76V7k7OSuTJg"
      },
      "id": "76V7k7OSuTJg"
    },
    {
      "cell_type": "code",
      "source": [
        "def nt_accuracy(prediction, test_labels):\n",
        "    return jnp.sum(jnp.argmax(prediction, axis=1) == jnp.argmax(test_labels, axis=1))/prediction.shape[0]\n",
        "\n",
        "def NTK():\n",
        "    \n",
        "    init_fn, apply_fn, kernel_fn = nt_stax.serial(\n",
        "        nt_stax.Dense(64), nt_stax.Relu(), nt_stax.Dense(64), nt_stax.Relu(),\n",
        "        nt_stax.Dense(64) )\n",
        "    \n",
        "    rng = random.PRNGKey(0) \n",
        "\n",
        "    df_columns = ['activation', 'time', 'dataset_size', 'width', 'training_accuracy', 'test_accuracy']\n",
        "    gp_evaluate = pd.DataFrame(columns=df_columns)\n",
        "\n",
        "    for num_train in dataset_size:\n",
        "        train_images_n, train_labels_n = train_images[:num_train], train_labels[:num_train]\n",
        "\n",
        "        print(f\"Running dataset size {num_train}\")\n",
        "        predict_fn = nt.predict.gradient_descent_mse_ensemble(kernel_fn, train_images_n, train_labels_n)\n",
        "\n",
        "        for time in times:\n",
        "            prediction = predict_fn(time, train_images_n, get='nngp')\n",
        "            train_acc = numpy.array(nt_accuracy(prediction, train_labels_n))\n",
        "            prediction = predict_fn(time, test_images, get='nngp')\n",
        "            test_acc = numpy.array(nt_accuracy(prediction, test_labels))\n",
        "            df_append(gp_evaluate, [\"relu\", time, num_train, 0, train_acc, test_acc])\n",
        "\n",
        "        prediction = predict_fn(None, train_images_n, get='nngp')\n",
        "        train_acc = numpy.array(nt_accuracy(prediction, train_labels_n))\n",
        "        prediction = predict_fn(None, test_images, get='nngp')\n",
        "        test_acc = numpy.array(nt_accuracy(prediction, test_labels))\n",
        "        df_append(gp_evaluate, [\"relu\", 0, num_train, 0, train_acc, test_acc])\n",
        "\n",
        "    return gp_evaluate"
      ],
      "metadata": {
        "id": "r2Zd93XYYD9k"
      },
      "id": "r2Zd93XYYD9k",
      "execution_count": 8,
      "outputs": []
    },
    {
      "cell_type": "code",
      "source": [
        "gp_evaluate = NTK()"
      ],
      "metadata": {
        "colab": {
          "base_uri": "https://localhost:8080/"
        },
        "id": "KvdZDf38as8X",
        "outputId": "8239ee9d-3fde-4bce-bcc5-b3c26aa54c41"
      },
      "id": "KvdZDf38as8X",
      "execution_count": 9,
      "outputs": [
        {
          "output_type": "stream",
          "name": "stdout",
          "text": [
            "Running dataset size 64\n",
            "Running dataset size 128\n",
            "Running dataset size 256\n",
            "Running dataset size 512\n",
            "Running dataset size 1024\n",
            "Running dataset size 2048\n"
          ]
        }
      ]
    },
    {
      "cell_type": "markdown",
      "source": [
        "# Plot Results\n"
      ],
      "metadata": {
        "id": "jKjcFK2QCFhj"
      },
      "id": "jKjcFK2QCFhj"
    },
    {
      "cell_type": "code",
      "source": [
        "x_label, y_label = 'Training Dataset Size', 'Test Accuracy'\n",
        "\n",
        "w, h = 40, 30\n",
        "s1 = figure(title='MNIST, NTK', x_axis_label = x_label, y_axis_label = y_label, plot_width=w, plot_height=h)\n",
        "s2 = figure(title='MNIST, NN', x_axis_label = x_label, y_axis_label = y_label, plot_width=w, plot_height=h)\n",
        "\n",
        "color_gp, color_nn = Bokeh[len(times)], RdBu[len(widths)]\n",
        "for i, time in enumerate(times):\n",
        "    gp_relu = gp_evaluate[(gp_evaluate.activation=='relu') & (gp_evaluate.time==time)]\n",
        "    s1.line(gp_relu.dataset_size, gp_relu[\"test_accuracy\"], color=color_gp[i], line_width=2, legend_label=f'NTK time: 1e{i+1} sec') \n",
        "for i, width in enumerate(widths):\n",
        "    nn_relu = nn_evaluate[(nn_evaluate.width==width) & (nn_evaluate.activation=='relu')]\n",
        "    s2.line(nn_relu.dataset_size, nn_relu[\"test_accuracy\"], color=color_nn[i], line_width=2, legend_label=f'NN width: {width}')\n",
        "\n",
        "gp_relu = gp_evaluate[(gp_evaluate.activation=='relu') & (gp_evaluate.time==0)]\n",
        "s1.line(gp_relu.dataset_size, gp_relu[\"test_accuracy\"], color=\"black\", line_dash=[2], line_width=2, legend_label=f'NTK time: ∞ sec')\n",
        "s2.line(gp_relu.dataset_size, gp_relu[\"test_accuracy\"], color=\"black\", line_dash=[2], line_width=2, legend_label=f'NTK time: ∞ sec')\n",
        "grid = gridplot([s1, s2], ncols=2, plot_width=w, plot_height=h, sizing_mode='scale_both')\n",
        "\n",
        "for s in s1, s2:\n",
        "    s.legend.location = 'bottom_right'\n",
        "    s.legend.spacing = -5\n",
        "    s.legend.orientation = \"vertical\"\n",
        "    s.legend.label_text_font_size = \"12px\"\n",
        "    s.y_range.start = 0\n",
        "    \n",
        "output_file(filename=\"Compare_NN_and_NTK.html\")\n",
        "show(grid)\n",
        "\n",
        "# To save file, please uncomment these few lines.\n",
        "# save(grid)"
      ],
      "metadata": {
        "id": "l7lDYICoxqLU",
        "colab": {
          "base_uri": "https://localhost:8080/",
          "height": 662
        },
        "outputId": "25a0d831-bd7a-4db0-851c-0944b08ab77d"
      },
      "id": "l7lDYICoxqLU",
      "execution_count": 15,
      "outputs": [
        {
          "output_type": "display_data",
          "data": {
            "application/javascript": [
              "\n",
              "(function(root) {\n",
              "  function now() {\n",
              "    return new Date();\n",
              "  }\n",
              "\n",
              "  var force = true;\n",
              "\n",
              "  if (typeof root._bokeh_onload_callbacks === \"undefined\" || force === true) {\n",
              "    root._bokeh_onload_callbacks = [];\n",
              "    root._bokeh_is_loading = undefined;\n",
              "  }\n",
              "\n",
              "  var JS_MIME_TYPE = 'application/javascript';\n",
              "  var HTML_MIME_TYPE = 'text/html';\n",
              "  var EXEC_MIME_TYPE = 'application/vnd.bokehjs_exec.v0+json';\n",
              "  var CLASS_NAME = 'output_bokeh rendered_html';\n",
              "\n",
              "  /**\n",
              "   * Render data to the DOM node\n",
              "   */\n",
              "  function render(props, node) {\n",
              "    var script = document.createElement(\"script\");\n",
              "    node.appendChild(script);\n",
              "  }\n",
              "\n",
              "  /**\n",
              "   * Handle when an output is cleared or removed\n",
              "   */\n",
              "  function handleClearOutput(event, handle) {\n",
              "    var cell = handle.cell;\n",
              "\n",
              "    var id = cell.output_area._bokeh_element_id;\n",
              "    var server_id = cell.output_area._bokeh_server_id;\n",
              "    // Clean up Bokeh references\n",
              "    if (id != null && id in Bokeh.index) {\n",
              "      Bokeh.index[id].model.document.clear();\n",
              "      delete Bokeh.index[id];\n",
              "    }\n",
              "\n",
              "    if (server_id !== undefined) {\n",
              "      // Clean up Bokeh references\n",
              "      var cmd = \"from bokeh.io.state import curstate; print(curstate().uuid_to_server['\" + server_id + \"'].get_sessions()[0].document.roots[0]._id)\";\n",
              "      cell.notebook.kernel.execute(cmd, {\n",
              "        iopub: {\n",
              "          output: function(msg) {\n",
              "            var id = msg.content.text.trim();\n",
              "            if (id in Bokeh.index) {\n",
              "              Bokeh.index[id].model.document.clear();\n",
              "              delete Bokeh.index[id];\n",
              "            }\n",
              "          }\n",
              "        }\n",
              "      });\n",
              "      // Destroy server and session\n",
              "      var cmd = \"import bokeh.io.notebook as ion; ion.destroy_server('\" + server_id + \"')\";\n",
              "      cell.notebook.kernel.execute(cmd);\n",
              "    }\n",
              "  }\n",
              "\n",
              "  /**\n",
              "   * Handle when a new output is added\n",
              "   */\n",
              "  function handleAddOutput(event, handle) {\n",
              "    var output_area = handle.output_area;\n",
              "    var output = handle.output;\n",
              "\n",
              "    // limit handleAddOutput to display_data with EXEC_MIME_TYPE content only\n",
              "    if ((output.output_type != \"display_data\") || (!Object.prototype.hasOwnProperty.call(output.data, EXEC_MIME_TYPE))) {\n",
              "      return\n",
              "    }\n",
              "\n",
              "    var toinsert = output_area.element.find(\".\" + CLASS_NAME.split(' ')[0]);\n",
              "\n",
              "    if (output.metadata[EXEC_MIME_TYPE][\"id\"] !== undefined) {\n",
              "      toinsert[toinsert.length - 1].firstChild.textContent = output.data[JS_MIME_TYPE];\n",
              "      // store reference to embed id on output_area\n",
              "      output_area._bokeh_element_id = output.metadata[EXEC_MIME_TYPE][\"id\"];\n",
              "    }\n",
              "    if (output.metadata[EXEC_MIME_TYPE][\"server_id\"] !== undefined) {\n",
              "      var bk_div = document.createElement(\"div\");\n",
              "      bk_div.innerHTML = output.data[HTML_MIME_TYPE];\n",
              "      var script_attrs = bk_div.children[0].attributes;\n",
              "      for (var i = 0; i < script_attrs.length; i++) {\n",
              "        toinsert[toinsert.length - 1].firstChild.setAttribute(script_attrs[i].name, script_attrs[i].value);\n",
              "        toinsert[toinsert.length - 1].firstChild.textContent = bk_div.children[0].textContent\n",
              "      }\n",
              "      // store reference to server id on output_area\n",
              "      output_area._bokeh_server_id = output.metadata[EXEC_MIME_TYPE][\"server_id\"];\n",
              "    }\n",
              "  }\n",
              "\n",
              "  function register_renderer(events, OutputArea) {\n",
              "\n",
              "    function append_mime(data, metadata, element) {\n",
              "      // create a DOM node to render to\n",
              "      var toinsert = this.create_output_subarea(\n",
              "        metadata,\n",
              "        CLASS_NAME,\n",
              "        EXEC_MIME_TYPE\n",
              "      );\n",
              "      this.keyboard_manager.register_events(toinsert);\n",
              "      // Render to node\n",
              "      var props = {data: data, metadata: metadata[EXEC_MIME_TYPE]};\n",
              "      render(props, toinsert[toinsert.length - 1]);\n",
              "      element.append(toinsert);\n",
              "      return toinsert\n",
              "    }\n",
              "\n",
              "    /* Handle when an output is cleared or removed */\n",
              "    events.on('clear_output.CodeCell', handleClearOutput);\n",
              "    events.on('delete.Cell', handleClearOutput);\n",
              "\n",
              "    /* Handle when a new output is added */\n",
              "    events.on('output_added.OutputArea', handleAddOutput);\n",
              "\n",
              "    /**\n",
              "     * Register the mime type and append_mime function with output_area\n",
              "     */\n",
              "    OutputArea.prototype.register_mime_type(EXEC_MIME_TYPE, append_mime, {\n",
              "      /* Is output safe? */\n",
              "      safe: true,\n",
              "      /* Index of renderer in `output_area.display_order` */\n",
              "      index: 0\n",
              "    });\n",
              "  }\n",
              "\n",
              "  // register the mime type if in Jupyter Notebook environment and previously unregistered\n",
              "  if (root.Jupyter !== undefined) {\n",
              "    var events = require('base/js/events');\n",
              "    var OutputArea = require('notebook/js/outputarea').OutputArea;\n",
              "\n",
              "    if (OutputArea.prototype.mime_types().indexOf(EXEC_MIME_TYPE) == -1) {\n",
              "      register_renderer(events, OutputArea);\n",
              "    }\n",
              "  }\n",
              "\n",
              "  \n",
              "  if (typeof (root._bokeh_timeout) === \"undefined\" || force === true) {\n",
              "    root._bokeh_timeout = Date.now() + 5000;\n",
              "    root._bokeh_failed_load = false;\n",
              "  }\n",
              "\n",
              "  var NB_LOAD_WARNING = {'data': {'text/html':\n",
              "     \"<div style='background-color: #fdd'>\\n\"+\n",
              "     \"<p>\\n\"+\n",
              "     \"BokehJS does not appear to have successfully loaded. If loading BokehJS from CDN, this \\n\"+\n",
              "     \"may be due to a slow or bad network connection. Possible fixes:\\n\"+\n",
              "     \"</p>\\n\"+\n",
              "     \"<ul>\\n\"+\n",
              "     \"<li>re-rerun `output_notebook()` to attempt to load from CDN again, or</li>\\n\"+\n",
              "     \"<li>use INLINE resources instead, as so:</li>\\n\"+\n",
              "     \"</ul>\\n\"+\n",
              "     \"<code>\\n\"+\n",
              "     \"from bokeh.resources import INLINE\\n\"+\n",
              "     \"output_notebook(resources=INLINE)\\n\"+\n",
              "     \"</code>\\n\"+\n",
              "     \"</div>\"}};\n",
              "\n",
              "  function display_loaded() {\n",
              "    var el = document.getElementById(null);\n",
              "    if (el != null) {\n",
              "      el.textContent = \"BokehJS is loading...\";\n",
              "    }\n",
              "    if (root.Bokeh !== undefined) {\n",
              "      if (el != null) {\n",
              "        el.textContent = \"BokehJS \" + root.Bokeh.version + \" successfully loaded.\";\n",
              "      }\n",
              "    } else if (Date.now() < root._bokeh_timeout) {\n",
              "      setTimeout(display_loaded, 100)\n",
              "    }\n",
              "  }\n",
              "\n",
              "\n",
              "  function run_callbacks() {\n",
              "    try {\n",
              "      root._bokeh_onload_callbacks.forEach(function(callback) {\n",
              "        if (callback != null)\n",
              "          callback();\n",
              "      });\n",
              "    } finally {\n",
              "      delete root._bokeh_onload_callbacks\n",
              "    }\n",
              "    console.debug(\"Bokeh: all callbacks have finished\");\n",
              "  }\n",
              "\n",
              "  function load_libs(css_urls, js_urls, callback) {\n",
              "    if (css_urls == null) css_urls = [];\n",
              "    if (js_urls == null) js_urls = [];\n",
              "\n",
              "    root._bokeh_onload_callbacks.push(callback);\n",
              "    if (root._bokeh_is_loading > 0) {\n",
              "      console.debug(\"Bokeh: BokehJS is being loaded, scheduling callback at\", now());\n",
              "      return null;\n",
              "    }\n",
              "    if (js_urls == null || js_urls.length === 0) {\n",
              "      run_callbacks();\n",
              "      return null;\n",
              "    }\n",
              "    console.debug(\"Bokeh: BokehJS not loaded, scheduling load and callback at\", now());\n",
              "    root._bokeh_is_loading = css_urls.length + js_urls.length;\n",
              "\n",
              "    function on_load() {\n",
              "      root._bokeh_is_loading--;\n",
              "      if (root._bokeh_is_loading === 0) {\n",
              "        console.debug(\"Bokeh: all BokehJS libraries/stylesheets loaded\");\n",
              "        run_callbacks()\n",
              "      }\n",
              "    }\n",
              "\n",
              "    function on_error(url) {\n",
              "      console.error(\"failed to load \" + url);\n",
              "    }\n",
              "\n",
              "    for (let i = 0; i < css_urls.length; i++) {\n",
              "      const url = css_urls[i];\n",
              "      const element = document.createElement(\"link\");\n",
              "      element.onload = on_load;\n",
              "      element.onerror = on_error.bind(null, url);\n",
              "      element.rel = \"stylesheet\";\n",
              "      element.type = \"text/css\";\n",
              "      element.href = url;\n",
              "      console.debug(\"Bokeh: injecting link tag for BokehJS stylesheet: \", url);\n",
              "      document.body.appendChild(element);\n",
              "    }\n",
              "\n",
              "    const hashes = {\"https://cdn.bokeh.org/bokeh/release/bokeh-2.3.3.min.js\": \"dM3QQsP+wXdHg42wTqW85BjZQdLNNIXqlPw/BgKoExPmTG7ZLML4EGqLMfqHT6ON\", \"https://cdn.bokeh.org/bokeh/release/bokeh-tables-2.3.3.min.js\": \"8x57I4YuIfu8XyZfFo0XVr2WAT8EK4rh/uDe3wF7YuW2FNUSNEpJbsPaB1nJ2fz2\", \"https://cdn.bokeh.org/bokeh/release/bokeh-widgets-2.3.3.min.js\": \"3QTqdz9LyAm2i0sG5XTePsHec3UHWwVsrOL68SYRoAXsafvfAyqtQ+h440+qIBhS\"};\n",
              "\n",
              "    for (let i = 0; i < js_urls.length; i++) {\n",
              "      const url = js_urls[i];\n",
              "      const element = document.createElement('script');\n",
              "      element.onload = on_load;\n",
              "      element.onerror = on_error.bind(null, url);\n",
              "      element.async = false;\n",
              "      element.src = url;\n",
              "      if (url in hashes) {\n",
              "        element.crossOrigin = \"anonymous\";\n",
              "        element.integrity = \"sha384-\" + hashes[url];\n",
              "      }\n",
              "      console.debug(\"Bokeh: injecting script tag for BokehJS library: \", url);\n",
              "      document.head.appendChild(element);\n",
              "    }\n",
              "  };\n",
              "\n",
              "  function inject_raw_css(css) {\n",
              "    const element = document.createElement(\"style\");\n",
              "    element.appendChild(document.createTextNode(css));\n",
              "    document.body.appendChild(element);\n",
              "  }\n",
              "\n",
              "  \n",
              "  var js_urls = [\"https://cdn.bokeh.org/bokeh/release/bokeh-2.3.3.min.js\", \"https://cdn.bokeh.org/bokeh/release/bokeh-widgets-2.3.3.min.js\", \"https://cdn.bokeh.org/bokeh/release/bokeh-tables-2.3.3.min.js\"];\n",
              "  var css_urls = [];\n",
              "  \n",
              "\n",
              "  var inline_js = [\n",
              "    function(Bokeh) {\n",
              "      Bokeh.set_log_level(\"info\");\n",
              "    },\n",
              "    function(Bokeh) {\n",
              "    \n",
              "    \n",
              "    }\n",
              "  ];\n",
              "\n",
              "  function run_inline_js() {\n",
              "    \n",
              "    if (root.Bokeh !== undefined || force === true) {\n",
              "      \n",
              "    for (var i = 0; i < inline_js.length; i++) {\n",
              "      inline_js[i].call(root, root.Bokeh);\n",
              "    }\n",
              "    } else if (Date.now() < root._bokeh_timeout) {\n",
              "      setTimeout(run_inline_js, 100);\n",
              "    } else if (!root._bokeh_failed_load) {\n",
              "      console.log(\"Bokeh: BokehJS failed to load within specified timeout.\");\n",
              "      root._bokeh_failed_load = true;\n",
              "    } else if (force !== true) {\n",
              "      var cell = $(document.getElementById(null)).parents('.cell').data().cell;\n",
              "      cell.output_area.append_execute_result(NB_LOAD_WARNING)\n",
              "    }\n",
              "\n",
              "  }\n",
              "\n",
              "  if (root._bokeh_is_loading === 0) {\n",
              "    console.debug(\"Bokeh: BokehJS loaded, going straight to plotting\");\n",
              "    run_inline_js();\n",
              "  } else {\n",
              "    load_libs(css_urls, js_urls, function() {\n",
              "      console.debug(\"Bokeh: BokehJS plotting callback run at\", now());\n",
              "      run_inline_js();\n",
              "    });\n",
              "  }\n",
              "}(window));"
            ],
            "application/vnd.bokehjs_load.v0+json": "\n(function(root) {\n  function now() {\n    return new Date();\n  }\n\n  var force = true;\n\n  if (typeof root._bokeh_onload_callbacks === \"undefined\" || force === true) {\n    root._bokeh_onload_callbacks = [];\n    root._bokeh_is_loading = undefined;\n  }\n\n  \n\n  \n  if (typeof (root._bokeh_timeout) === \"undefined\" || force === true) {\n    root._bokeh_timeout = Date.now() + 5000;\n    root._bokeh_failed_load = false;\n  }\n\n  var NB_LOAD_WARNING = {'data': {'text/html':\n     \"<div style='background-color: #fdd'>\\n\"+\n     \"<p>\\n\"+\n     \"BokehJS does not appear to have successfully loaded. If loading BokehJS from CDN, this \\n\"+\n     \"may be due to a slow or bad network connection. Possible fixes:\\n\"+\n     \"</p>\\n\"+\n     \"<ul>\\n\"+\n     \"<li>re-rerun `output_notebook()` to attempt to load from CDN again, or</li>\\n\"+\n     \"<li>use INLINE resources instead, as so:</li>\\n\"+\n     \"</ul>\\n\"+\n     \"<code>\\n\"+\n     \"from bokeh.resources import INLINE\\n\"+\n     \"output_notebook(resources=INLINE)\\n\"+\n     \"</code>\\n\"+\n     \"</div>\"}};\n\n  function display_loaded() {\n    var el = document.getElementById(null);\n    if (el != null) {\n      el.textContent = \"BokehJS is loading...\";\n    }\n    if (root.Bokeh !== undefined) {\n      if (el != null) {\n        el.textContent = \"BokehJS \" + root.Bokeh.version + \" successfully loaded.\";\n      }\n    } else if (Date.now() < root._bokeh_timeout) {\n      setTimeout(display_loaded, 100)\n    }\n  }\n\n\n  function run_callbacks() {\n    try {\n      root._bokeh_onload_callbacks.forEach(function(callback) {\n        if (callback != null)\n          callback();\n      });\n    } finally {\n      delete root._bokeh_onload_callbacks\n    }\n    console.debug(\"Bokeh: all callbacks have finished\");\n  }\n\n  function load_libs(css_urls, js_urls, callback) {\n    if (css_urls == null) css_urls = [];\n    if (js_urls == null) js_urls = [];\n\n    root._bokeh_onload_callbacks.push(callback);\n    if (root._bokeh_is_loading > 0) {\n      console.debug(\"Bokeh: BokehJS is being loaded, scheduling callback at\", now());\n      return null;\n    }\n    if (js_urls == null || js_urls.length === 0) {\n      run_callbacks();\n      return null;\n    }\n    console.debug(\"Bokeh: BokehJS not loaded, scheduling load and callback at\", now());\n    root._bokeh_is_loading = css_urls.length + js_urls.length;\n\n    function on_load() {\n      root._bokeh_is_loading--;\n      if (root._bokeh_is_loading === 0) {\n        console.debug(\"Bokeh: all BokehJS libraries/stylesheets loaded\");\n        run_callbacks()\n      }\n    }\n\n    function on_error(url) {\n      console.error(\"failed to load \" + url);\n    }\n\n    for (let i = 0; i < css_urls.length; i++) {\n      const url = css_urls[i];\n      const element = document.createElement(\"link\");\n      element.onload = on_load;\n      element.onerror = on_error.bind(null, url);\n      element.rel = \"stylesheet\";\n      element.type = \"text/css\";\n      element.href = url;\n      console.debug(\"Bokeh: injecting link tag for BokehJS stylesheet: \", url);\n      document.body.appendChild(element);\n    }\n\n    const hashes = {\"https://cdn.bokeh.org/bokeh/release/bokeh-2.3.3.min.js\": \"dM3QQsP+wXdHg42wTqW85BjZQdLNNIXqlPw/BgKoExPmTG7ZLML4EGqLMfqHT6ON\", \"https://cdn.bokeh.org/bokeh/release/bokeh-tables-2.3.3.min.js\": \"8x57I4YuIfu8XyZfFo0XVr2WAT8EK4rh/uDe3wF7YuW2FNUSNEpJbsPaB1nJ2fz2\", \"https://cdn.bokeh.org/bokeh/release/bokeh-widgets-2.3.3.min.js\": \"3QTqdz9LyAm2i0sG5XTePsHec3UHWwVsrOL68SYRoAXsafvfAyqtQ+h440+qIBhS\"};\n\n    for (let i = 0; i < js_urls.length; i++) {\n      const url = js_urls[i];\n      const element = document.createElement('script');\n      element.onload = on_load;\n      element.onerror = on_error.bind(null, url);\n      element.async = false;\n      element.src = url;\n      if (url in hashes) {\n        element.crossOrigin = \"anonymous\";\n        element.integrity = \"sha384-\" + hashes[url];\n      }\n      console.debug(\"Bokeh: injecting script tag for BokehJS library: \", url);\n      document.head.appendChild(element);\n    }\n  };\n\n  function inject_raw_css(css) {\n    const element = document.createElement(\"style\");\n    element.appendChild(document.createTextNode(css));\n    document.body.appendChild(element);\n  }\n\n  \n  var js_urls = [\"https://cdn.bokeh.org/bokeh/release/bokeh-2.3.3.min.js\", \"https://cdn.bokeh.org/bokeh/release/bokeh-widgets-2.3.3.min.js\", \"https://cdn.bokeh.org/bokeh/release/bokeh-tables-2.3.3.min.js\"];\n  var css_urls = [];\n  \n\n  var inline_js = [\n    function(Bokeh) {\n      Bokeh.set_log_level(\"info\");\n    },\n    function(Bokeh) {\n    \n    \n    }\n  ];\n\n  function run_inline_js() {\n    \n    if (root.Bokeh !== undefined || force === true) {\n      \n    for (var i = 0; i < inline_js.length; i++) {\n      inline_js[i].call(root, root.Bokeh);\n    }\n    } else if (Date.now() < root._bokeh_timeout) {\n      setTimeout(run_inline_js, 100);\n    } else if (!root._bokeh_failed_load) {\n      console.log(\"Bokeh: BokehJS failed to load within specified timeout.\");\n      root._bokeh_failed_load = true;\n    } else if (force !== true) {\n      var cell = $(document.getElementById(null)).parents('.cell').data().cell;\n      cell.output_area.append_execute_result(NB_LOAD_WARNING)\n    }\n\n  }\n\n  if (root._bokeh_is_loading === 0) {\n    console.debug(\"Bokeh: BokehJS loaded, going straight to plotting\");\n    run_inline_js();\n  } else {\n    load_libs(css_urls, js_urls, function() {\n      console.debug(\"Bokeh: BokehJS plotting callback run at\", now());\n      run_inline_js();\n    });\n  }\n}(window));"
          },
          "metadata": {}
        },
        {
          "output_type": "display_data",
          "data": {
            "text/html": [
              "\n",
              "\n",
              "\n",
              "\n",
              "\n",
              "\n",
              "  <div class=\"bk-root\" id=\"5b6dbcb7-c4ca-489f-a4d5-d551080d0cd0\" data-root-id=\"3865\"></div>\n"
            ]
          },
          "metadata": {}
        },
        {
          "output_type": "display_data",
          "data": {
            "application/javascript": [
              "(function(root) {\n",
              "  function embed_document(root) {\n",
              "    \n",
              "  var docs_json = {\"ae29b291-7b19-495d-8cf3-a8219393a07b\":{\"defs\":[],\"roots\":{\"references\":[{\"attributes\":{\"children\":[{\"id\":\"3864\"},{\"id\":\"3862\"}],\"sizing_mode\":\"scale_both\"},\"id\":\"3865\",\"type\":\"Column\"},{\"attributes\":{\"start\":0},\"id\":\"3446\",\"type\":\"DataRange1d\"},{\"attributes\":{\"data\":{\"x\":[64,128,256,512,1024,2048],\"y\":[0.6180000305175781,0.6860000491142273,0.7750000357627869,0.8650000691413879,0.878000020980835,0.8990000486373901]},\"selected\":{\"id\":\"3598\"},\"selection_policy\":{\"id\":\"3597\"}},\"id\":\"3575\",\"type\":\"ColumnDataSource\"},{\"attributes\":{\"axis\":{\"id\":\"3456\"},\"dimension\":1,\"ticker\":null},\"id\":\"3459\",\"type\":\"Grid\"},{\"attributes\":{\"line_color\":\"#00AAAE\",\"line_width\":2,\"x\":{\"field\":\"x\"},\"y\":{\"field\":\"y\"}},\"id\":\"3576\",\"type\":\"Line\"},{\"attributes\":{},\"id\":\"3753\",\"type\":\"Selection\"},{\"attributes\":{\"items\":[{\"id\":\"3645\"},{\"id\":\"3663\"},{\"id\":\"3683\"},{\"id\":\"3705\"},{\"id\":\"3729\"},{\"id\":\"3755\"},{\"id\":\"3813\"}],\"label_text_font_size\":\"12px\",\"location\":\"bottom_right\",\"spacing\":-5},\"id\":\"3644\",\"type\":\"Legend\"},{\"attributes\":{\"source\":{\"id\":\"3730\"}},\"id\":\"3734\",\"type\":\"CDSView\"},{\"attributes\":{\"line_alpha\":0.1,\"line_color\":\"#F6A91B\",\"line_width\":2,\"x\":{\"field\":\"x\"},\"y\":{\"field\":\"y\"}},\"id\":\"3511\",\"type\":\"Line\"},{\"attributes\":{},\"id\":\"3635\",\"type\":\"AllLabels\"},{\"attributes\":{\"label\":{\"value\":\"NN width: 2048\"},\"renderers\":[{\"id\":\"3733\"}]},\"id\":\"3755\",\"type\":\"LegendItem\"},{\"attributes\":{\"label\":{\"value\":\"NTK time: 1e3 sec\"},\"renderers\":[{\"id\":\"3512\"}]},\"id\":\"3528\",\"type\":\"LegendItem\"},{\"attributes\":{},\"id\":\"3417\",\"type\":\"LinearScale\"},{\"attributes\":{\"line_alpha\":0.1,\"line_color\":\"#b2182b\",\"line_width\":2,\"x\":{\"field\":\"x\"},\"y\":{\"field\":\"y\"}},\"id\":\"3732\",\"type\":\"Line\"},{\"attributes\":{},\"id\":\"3636\",\"type\":\"BasicTickFormatter\"},{\"attributes\":{\"items\":[{\"id\":\"3490\"},{\"id\":\"3508\"},{\"id\":\"3528\"},{\"id\":\"3550\"},{\"id\":\"3574\"},{\"id\":\"3600\"},{\"id\":\"3628\"},{\"id\":\"3785\"}],\"label_text_font_size\":\"12px\",\"location\":\"bottom_right\",\"spacing\":-5},\"id\":\"3489\",\"type\":\"Legend\"},{\"attributes\":{\"data_source\":{\"id\":\"3509\"},\"glyph\":{\"id\":\"3510\"},\"hover_glyph\":null,\"muted_glyph\":null,\"nonselection_glyph\":{\"id\":\"3511\"},\"view\":{\"id\":\"3513\"}},\"id\":\"3512\",\"type\":\"GlyphRenderer\"},{\"attributes\":{\"data_source\":{\"id\":\"3730\"},\"glyph\":{\"id\":\"3731\"},\"hover_glyph\":null,\"muted_glyph\":null,\"nonselection_glyph\":{\"id\":\"3732\"},\"view\":{\"id\":\"3734\"}},\"id\":\"3733\",\"type\":\"GlyphRenderer\"},{\"attributes\":{\"source\":{\"id\":\"3509\"}},\"id\":\"3513\",\"type\":\"CDSView\"},{\"attributes\":{},\"id\":\"3639\",\"type\":\"BasicTickFormatter\"},{\"attributes\":{\"label\":{\"value\":\"NTK time: 1e6 sec\"},\"renderers\":[{\"id\":\"3578\"}]},\"id\":\"3600\",\"type\":\"LegendItem\"},{\"attributes\":{},\"id\":\"3638\",\"type\":\"AllLabels\"},{\"attributes\":{},\"id\":\"3526\",\"type\":\"Selection\"},{\"attributes\":{},\"id\":\"3752\",\"type\":\"UnionRenderers\"},{\"attributes\":{},\"id\":\"3424\",\"type\":\"BasicTicker\"},{\"attributes\":{},\"id\":\"3525\",\"type\":\"UnionRenderers\"},{\"attributes\":{\"line_alpha\":0.1,\"line_color\":\"#00AAAE\",\"line_width\":2,\"x\":{\"field\":\"x\"},\"y\":{\"field\":\"y\"}},\"id\":\"3577\",\"type\":\"Line\"},{\"attributes\":{},\"id\":\"3641\",\"type\":\"UnionRenderers\"},{\"attributes\":{\"data\":{\"x\":[64,128,256,512,1024,2048],\"y\":[0.5520000457763672,0.5840000510215759,0.6080000400543213,0.6660000085830688,0.6740000247955322,0.6980000138282776]},\"selected\":{\"id\":\"3548\"},\"selection_policy\":{\"id\":\"3547\"}},\"id\":\"3529\",\"type\":\"ColumnDataSource\"},{\"attributes\":{},\"id\":\"3598\",\"type\":\"Selection\"},{\"attributes\":{},\"id\":\"3642\",\"type\":\"Selection\"},{\"attributes\":{\"data_source\":{\"id\":\"3575\"},\"glyph\":{\"id\":\"3576\"},\"hover_glyph\":null,\"muted_glyph\":null,\"nonselection_glyph\":{\"id\":\"3577\"},\"view\":{\"id\":\"3579\"}},\"id\":\"3578\",\"type\":\"GlyphRenderer\"},{\"attributes\":{\"line_color\":\"#A5CD39\",\"line_width\":2,\"x\":{\"field\":\"x\"},\"y\":{\"field\":\"y\"}},\"id\":\"3530\",\"type\":\"Line\"},{\"attributes\":{\"label\":{\"value\":\"NN width: 64\"},\"renderers\":[{\"id\":\"3632\"}]},\"id\":\"3645\",\"type\":\"LegendItem\"},{\"attributes\":{\"source\":{\"id\":\"3575\"}},\"id\":\"3579\",\"type\":\"CDSView\"},{\"attributes\":{\"data\":{\"x\":[64,128,256,512,1024,2048],\"y\":[0.6170000433921814,0.6860000491142273,0.7800000309944153,0.8680000305175781,0.9000000357627869,0.9300000667572021]},\"selected\":{\"id\":\"3783\"},\"selection_policy\":{\"id\":\"3782\"}},\"id\":\"3756\",\"type\":\"ColumnDataSource\"},{\"attributes\":{\"line_dash\":[2],\"line_width\":2,\"x\":{\"field\":\"x\"},\"y\":{\"field\":\"y\"}},\"id\":\"3757\",\"type\":\"Line\"},{\"attributes\":{},\"id\":\"3597\",\"type\":\"UnionRenderers\"},{\"attributes\":{\"line_color\":\"#67a9cf\",\"line_width\":2,\"x\":{\"field\":\"x\"},\"y\":{\"field\":\"y\"}},\"id\":\"3647\",\"type\":\"Line\"},{\"attributes\":{},\"id\":\"3486\",\"type\":\"UnionRenderers\"},{\"attributes\":{},\"id\":\"3450\",\"type\":\"LinearScale\"},{\"attributes\":{\"data\":{\"x\":[64,128,256,512,1024,2048],\"y\":[0.125,0.2639999985694885,0.38600000739097595,0.578000009059906,0.7120000123977661,0.8170000314712524]},\"selected\":{\"id\":\"3661\"},\"selection_policy\":{\"id\":\"3660\"}},\"id\":\"3646\",\"type\":\"ColumnDataSource\"},{\"attributes\":{},\"id\":\"3420\",\"type\":\"BasicTicker\"},{\"attributes\":{\"line_dash\":[2],\"line_width\":2,\"x\":{\"field\":\"x\"},\"y\":{\"field\":\"y\"}},\"id\":\"3787\",\"type\":\"Line\"},{\"attributes\":{\"axis\":{\"id\":\"3423\"},\"dimension\":1,\"ticker\":null},\"id\":\"3426\",\"type\":\"Grid\"},{\"attributes\":{\"start\":0},\"id\":\"3413\",\"type\":\"DataRange1d\"},{\"attributes\":{\"line_color\":\"#892889\",\"line_width\":2,\"x\":{\"field\":\"x\"},\"y\":{\"field\":\"y\"}},\"id\":\"3602\",\"type\":\"Line\"},{\"attributes\":{\"bottom_units\":\"screen\",\"fill_alpha\":0.5,\"fill_color\":\"lightgrey\",\"left_units\":\"screen\",\"level\":\"overlay\",\"line_alpha\":1.0,\"line_color\":\"black\",\"line_dash\":[4,4],\"line_width\":2,\"right_units\":\"screen\",\"syncable\":false,\"top_units\":\"screen\"},\"id\":\"3433\",\"type\":\"BoxAnnotation\"},{\"attributes\":{\"data\":{\"x\":[64,128,256,512,1024,2048],\"y\":[0.6170000433921814,0.6860000491142273,0.7790000438690186,0.8640000224113464,0.9010000228881836,0.9300000667572021]},\"selected\":{\"id\":\"3626\"},\"selection_policy\":{\"id\":\"3625\"}},\"id\":\"3601\",\"type\":\"ColumnDataSource\"},{\"attributes\":{\"line_alpha\":0.1,\"line_dash\":[2],\"line_width\":2,\"x\":{\"field\":\"x\"},\"y\":{\"field\":\"y\"}},\"id\":\"3758\",\"type\":\"Line\"},{\"attributes\":{\"line_alpha\":0.1,\"line_color\":\"#A5CD39\",\"line_width\":2,\"x\":{\"field\":\"x\"},\"y\":{\"field\":\"y\"}},\"id\":\"3531\",\"type\":\"Line\"},{\"attributes\":{\"axis\":{\"id\":\"3419\"},\"ticker\":null},\"id\":\"3422\",\"type\":\"Grid\"},{\"attributes\":{\"label\":{\"value\":\"NTK time: \\u221e sec\"},\"renderers\":[{\"id\":\"3759\"}]},\"id\":\"3785\",\"type\":\"LegendItem\"},{\"attributes\":{\"label\":{\"value\":\"NTK time: 1e4 sec\"},\"renderers\":[{\"id\":\"3532\"}]},\"id\":\"3550\",\"type\":\"LegendItem\"},{\"attributes\":{\"data_source\":{\"id\":\"3756\"},\"glyph\":{\"id\":\"3757\"},\"hover_glyph\":null,\"muted_glyph\":null,\"nonselection_glyph\":{\"id\":\"3758\"},\"view\":{\"id\":\"3760\"}},\"id\":\"3759\",\"type\":\"GlyphRenderer\"},{\"attributes\":{},\"id\":\"3448\",\"type\":\"LinearScale\"},{\"attributes\":{\"data_source\":{\"id\":\"3529\"},\"glyph\":{\"id\":\"3530\"},\"hover_glyph\":null,\"muted_glyph\":null,\"nonselection_glyph\":{\"id\":\"3531\"},\"view\":{\"id\":\"3533\"}},\"id\":\"3532\",\"type\":\"GlyphRenderer\"},{\"attributes\":{\"source\":{\"id\":\"3756\"}},\"id\":\"3760\",\"type\":\"CDSView\"},{\"attributes\":{\"axis_label\":\"Training Dataset Size\",\"formatter\":{\"id\":\"3639\"},\"major_label_policy\":{\"id\":\"3638\"},\"ticker\":{\"id\":\"3453\"}},\"id\":\"3452\",\"type\":\"LinearAxis\"},{\"attributes\":{\"source\":{\"id\":\"3529\"}},\"id\":\"3533\",\"type\":\"CDSView\"},{\"attributes\":{\"line_alpha\":0.1,\"line_color\":\"#67a9cf\",\"line_width\":2,\"x\":{\"field\":\"x\"},\"y\":{\"field\":\"y\"}},\"id\":\"3648\",\"type\":\"Line\"},{\"attributes\":{},\"id\":\"3783\",\"type\":\"Selection\"},{\"attributes\":{},\"id\":\"3548\",\"type\":\"Selection\"},{\"attributes\":{},\"id\":\"3782\",\"type\":\"UnionRenderers\"},{\"attributes\":{\"label\":{\"value\":\"NN width: 128\"},\"renderers\":[{\"id\":\"3649\"}]},\"id\":\"3663\",\"type\":\"LegendItem\"},{\"attributes\":{},\"id\":\"3457\",\"type\":\"BasicTicker\"},{\"attributes\":{},\"id\":\"3547\",\"type\":\"UnionRenderers\"},{\"attributes\":{\"line_alpha\":0.1,\"line_color\":\"#892889\",\"line_width\":2,\"x\":{\"field\":\"x\"},\"y\":{\"field\":\"y\"}},\"id\":\"3603\",\"type\":\"Line\"},{\"attributes\":{},\"id\":\"3415\",\"type\":\"LinearScale\"},{\"attributes\":{\"data_source\":{\"id\":\"3646\"},\"glyph\":{\"id\":\"3647\"},\"hover_glyph\":null,\"muted_glyph\":null,\"nonselection_glyph\":{\"id\":\"3648\"},\"view\":{\"id\":\"3650\"}},\"id\":\"3649\",\"type\":\"GlyphRenderer\"},{\"attributes\":{\"label\":{\"value\":\"NTK time: 1e7 sec\"},\"renderers\":[{\"id\":\"3604\"}]},\"id\":\"3628\",\"type\":\"LegendItem\"},{\"attributes\":{\"data\":{\"x\":[64,128,256,512,1024,2048],\"y\":[0.6240000128746033,0.6610000133514404,0.703000009059906,0.7580000162124634,0.784000039100647,0.8100000619888306]},\"selected\":{\"id\":\"3572\"},\"selection_policy\":{\"id\":\"3571\"}},\"id\":\"3551\",\"type\":\"ColumnDataSource\"},{\"attributes\":{\"source\":{\"id\":\"3646\"}},\"id\":\"3650\",\"type\":\"CDSView\"},{\"attributes\":{\"text\":\"MNIST, NTK\"},\"id\":\"3409\",\"type\":\"Title\"},{\"attributes\":{\"data\":{\"x\":[64,128,256,512,1024,2048],\"y\":[0.6170000433921814,0.6860000491142273,0.7800000309944153,0.8680000305175781,0.9000000357627869,0.9300000667572021]},\"selected\":{\"id\":\"3811\"},\"selection_policy\":{\"id\":\"3810\"}},\"id\":\"3786\",\"type\":\"ColumnDataSource\"},{\"attributes\":{},\"id\":\"3661\",\"type\":\"Selection\"},{\"attributes\":{\"data_source\":{\"id\":\"3601\"},\"glyph\":{\"id\":\"3602\"},\"hover_glyph\":null,\"muted_glyph\":null,\"nonselection_glyph\":{\"id\":\"3603\"},\"view\":{\"id\":\"3605\"}},\"id\":\"3604\",\"type\":\"GlyphRenderer\"},{\"attributes\":{\"line_color\":\"#20B254\",\"line_width\":2,\"x\":{\"field\":\"x\"},\"y\":{\"field\":\"y\"}},\"id\":\"3552\",\"type\":\"Line\"},{\"attributes\":{},\"id\":\"3660\",\"type\":\"UnionRenderers\"},{\"attributes\":{\"source\":{\"id\":\"3601\"}},\"id\":\"3605\",\"type\":\"CDSView\"},{\"attributes\":{},\"id\":\"3626\",\"type\":\"Selection\"},{\"attributes\":{\"line_alpha\":0.1,\"line_dash\":[2],\"line_width\":2,\"x\":{\"field\":\"x\"},\"y\":{\"field\":\"y\"}},\"id\":\"3788\",\"type\":\"Line\"},{\"attributes\":{},\"id\":\"3625\",\"type\":\"UnionRenderers\"},{\"attributes\":{\"label\":{\"value\":\"NTK time: \\u221e sec\"},\"renderers\":[{\"id\":\"3789\"}]},\"id\":\"3813\",\"type\":\"LegendItem\"},{\"attributes\":{\"line_color\":\"#d1e5f0\",\"line_width\":2,\"x\":{\"field\":\"x\"},\"y\":{\"field\":\"y\"}},\"id\":\"3665\",\"type\":\"Line\"},{\"attributes\":{\"data\":{\"x\":[64,128,256,512,1024,2048],\"y\":[0.11300000548362732,0.3020000159740448,0.49400001764297485,0.6430000066757202,0.7510000467300415,0.8350000381469727]},\"selected\":{\"id\":\"3681\"},\"selection_policy\":{\"id\":\"3680\"}},\"id\":\"3664\",\"type\":\"ColumnDataSource\"},{\"attributes\":{\"data_source\":{\"id\":\"3786\"},\"glyph\":{\"id\":\"3787\"},\"hover_glyph\":null,\"muted_glyph\":null,\"nonselection_glyph\":{\"id\":\"3788\"},\"view\":{\"id\":\"3790\"}},\"id\":\"3789\",\"type\":\"GlyphRenderer\"},{\"attributes\":{\"source\":{\"id\":\"3786\"}},\"id\":\"3790\",\"type\":\"CDSView\"},{\"attributes\":{},\"id\":\"3487\",\"type\":\"Selection\"},{\"attributes\":{\"axis\":{\"id\":\"3452\"},\"ticker\":null},\"id\":\"3455\",\"type\":\"Grid\"},{\"attributes\":{\"line_color\":\"#2166ac\",\"line_width\":2,\"x\":{\"field\":\"x\"},\"y\":{\"field\":\"y\"}},\"id\":\"3630\",\"type\":\"Line\"},{\"attributes\":{},\"id\":\"3811\",\"type\":\"Selection\"},{\"attributes\":{},\"id\":\"3810\",\"type\":\"UnionRenderers\"},{\"attributes\":{\"line_alpha\":0.1,\"line_color\":\"#20B254\",\"line_width\":2,\"x\":{\"field\":\"x\"},\"y\":{\"field\":\"y\"}},\"id\":\"3553\",\"type\":\"Line\"},{\"attributes\":{\"below\":[{\"id\":\"3419\"}],\"center\":[{\"id\":\"3422\"},{\"id\":\"3426\"},{\"id\":\"3489\"}],\"height\":30,\"left\":[{\"id\":\"3423\"}],\"renderers\":[{\"id\":\"3477\"},{\"id\":\"3494\"},{\"id\":\"3512\"},{\"id\":\"3532\"},{\"id\":\"3554\"},{\"id\":\"3578\"},{\"id\":\"3604\"},{\"id\":\"3759\"}],\"sizing_mode\":\"scale_both\",\"title\":{\"id\":\"3409\"},\"toolbar\":{\"id\":\"3434\"},\"toolbar_location\":null,\"width\":40,\"x_range\":{\"id\":\"3411\"},\"x_scale\":{\"id\":\"3415\"},\"y_range\":{\"id\":\"3413\"},\"y_scale\":{\"id\":\"3417\"}},\"id\":\"3408\",\"subtype\":\"Figure\",\"type\":\"Plot\"},{\"attributes\":{\"label\":{\"value\":\"NTK time: 1e5 sec\"},\"renderers\":[{\"id\":\"3554\"}]},\"id\":\"3574\",\"type\":\"LegendItem\"},{\"attributes\":{},\"id\":\"3571\",\"type\":\"UnionRenderers\"},{\"attributes\":{},\"id\":\"3411\",\"type\":\"DataRange1d\"},{\"attributes\":{\"data_source\":{\"id\":\"3551\"},\"glyph\":{\"id\":\"3552\"},\"hover_glyph\":null,\"muted_glyph\":null,\"nonselection_glyph\":{\"id\":\"3553\"},\"view\":{\"id\":\"3555\"}},\"id\":\"3554\",\"type\":\"GlyphRenderer\"},{\"attributes\":{\"label\":{\"value\":\"NN width: 256\"},\"renderers\":[{\"id\":\"3667\"}]},\"id\":\"3683\",\"type\":\"LegendItem\"},{\"attributes\":{\"axis_label\":\"Test Accuracy\",\"formatter\":{\"id\":\"3636\"},\"major_label_policy\":{\"id\":\"3635\"},\"ticker\":{\"id\":\"3457\"}},\"id\":\"3456\",\"type\":\"LinearAxis\"},{\"attributes\":{\"source\":{\"id\":\"3551\"}},\"id\":\"3555\",\"type\":\"CDSView\"},{\"attributes\":{\"data\":{\"x\":[64,128,256,512,1024,2048],\"y\":[0.13600000739097595,0.19500000774860382,0.28700000047683716,0.5700000524520874,0.7130000591278076,0.8050000667572021]},\"selected\":{\"id\":\"3642\"},\"selection_policy\":{\"id\":\"3641\"}},\"id\":\"3629\",\"type\":\"ColumnDataSource\"},{\"attributes\":{\"toolbar\":{\"id\":\"3863\"},\"toolbar_location\":\"above\"},\"id\":\"3864\",\"type\":\"ToolbarBox\"},{\"attributes\":{\"line_alpha\":0.1,\"line_color\":\"#d1e5f0\",\"line_width\":2,\"x\":{\"field\":\"x\"},\"y\":{\"field\":\"y\"}},\"id\":\"3666\",\"type\":\"Line\"},{\"attributes\":{\"line_alpha\":0.1,\"line_color\":\"#2166ac\",\"line_width\":2,\"x\":{\"field\":\"x\"},\"y\":{\"field\":\"y\"}},\"id\":\"3631\",\"type\":\"Line\"},{\"attributes\":{\"source\":{\"id\":\"3629\"}},\"id\":\"3633\",\"type\":\"CDSView\"},{\"attributes\":{},\"id\":\"3572\",\"type\":\"Selection\"},{\"attributes\":{\"data_source\":{\"id\":\"3629\"},\"glyph\":{\"id\":\"3630\"},\"hover_glyph\":null,\"muted_glyph\":null,\"nonselection_glyph\":{\"id\":\"3631\"},\"view\":{\"id\":\"3633\"}},\"id\":\"3632\",\"type\":\"GlyphRenderer\"},{\"attributes\":{},\"id\":\"3453\",\"type\":\"BasicTicker\"},{\"attributes\":{},\"id\":\"3680\",\"type\":\"UnionRenderers\"},{\"attributes\":{\"data_source\":{\"id\":\"3664\"},\"glyph\":{\"id\":\"3665\"},\"hover_glyph\":null,\"muted_glyph\":null,\"nonselection_glyph\":{\"id\":\"3666\"},\"view\":{\"id\":\"3668\"}},\"id\":\"3667\",\"type\":\"GlyphRenderer\"},{\"attributes\":{\"source\":{\"id\":\"3664\"}},\"id\":\"3668\",\"type\":\"CDSView\"},{\"attributes\":{\"active_multi\":null,\"tools\":[{\"id\":\"3460\"},{\"id\":\"3461\"},{\"id\":\"3462\"},{\"id\":\"3463\"},{\"id\":\"3464\"},{\"id\":\"3465\"}]},\"id\":\"3467\",\"type\":\"Toolbar\"},{\"attributes\":{},\"id\":\"3681\",\"type\":\"Selection\"},{\"attributes\":{\"line_color\":\"#EC1557\",\"line_width\":2,\"x\":{\"field\":\"x\"},\"y\":{\"field\":\"y\"}},\"id\":\"3475\",\"type\":\"Line\"},{\"attributes\":{},\"id\":\"3460\",\"type\":\"PanTool\"},{\"attributes\":{},\"id\":\"3461\",\"type\":\"WheelZoomTool\"},{\"attributes\":{\"line_color\":\"#fddbc7\",\"line_width\":2,\"x\":{\"field\":\"x\"},\"y\":{\"field\":\"y\"}},\"id\":\"3685\",\"type\":\"Line\"},{\"attributes\":{\"data\":{\"x\":[64,128,256,512,1024,2048],\"y\":[0.23500001430511475,0.3490000069141388,0.5410000085830688,0.6700000166893005,0.7670000195503235,0.8360000252723694]},\"selected\":{\"id\":\"3703\"},\"selection_policy\":{\"id\":\"3702\"}},\"id\":\"3684\",\"type\":\"ColumnDataSource\"},{\"attributes\":{\"overlay\":{\"id\":\"3466\"}},\"id\":\"3462\",\"type\":\"BoxZoomTool\"},{\"attributes\":{},\"id\":\"3444\",\"type\":\"DataRange1d\"},{\"attributes\":{},\"id\":\"3463\",\"type\":\"SaveTool\"},{\"attributes\":{},\"id\":\"3464\",\"type\":\"ResetTool\"},{\"attributes\":{\"overlay\":{\"id\":\"3433\"}},\"id\":\"3429\",\"type\":\"BoxZoomTool\"},{\"attributes\":{},\"id\":\"3465\",\"type\":\"HelpTool\"},{\"attributes\":{\"line_color\":\"#F05223\",\"line_width\":2,\"x\":{\"field\":\"x\"},\"y\":{\"field\":\"y\"}},\"id\":\"3492\",\"type\":\"Line\"},{\"attributes\":{\"line_alpha\":0.1,\"line_color\":\"#fddbc7\",\"line_width\":2,\"x\":{\"field\":\"x\"},\"y\":{\"field\":\"y\"}},\"id\":\"3686\",\"type\":\"Line\"},{\"attributes\":{\"data_source\":{\"id\":\"3491\"},\"glyph\":{\"id\":\"3492\"},\"hover_glyph\":null,\"muted_glyph\":null,\"nonselection_glyph\":{\"id\":\"3493\"},\"view\":{\"id\":\"3495\"}},\"id\":\"3494\",\"type\":\"GlyphRenderer\"},{\"attributes\":{\"line_color\":\"#F6A91B\",\"line_width\":2,\"x\":{\"field\":\"x\"},\"y\":{\"field\":\"y\"}},\"id\":\"3510\",\"type\":\"Line\"},{\"attributes\":{\"label\":{\"value\":\"NN width: 512\"},\"renderers\":[{\"id\":\"3687\"}]},\"id\":\"3705\",\"type\":\"LegendItem\"},{\"attributes\":{\"label\":{\"value\":\"NTK time: 1e1 sec\"},\"renderers\":[{\"id\":\"3477\"}]},\"id\":\"3490\",\"type\":\"LegendItem\"},{\"attributes\":{\"label\":{\"value\":\"NTK time: 1e2 sec\"},\"renderers\":[{\"id\":\"3494\"}]},\"id\":\"3508\",\"type\":\"LegendItem\"},{\"attributes\":{\"data_source\":{\"id\":\"3684\"},\"glyph\":{\"id\":\"3685\"},\"hover_glyph\":null,\"muted_glyph\":null,\"nonselection_glyph\":{\"id\":\"3686\"},\"view\":{\"id\":\"3688\"}},\"id\":\"3687\",\"type\":\"GlyphRenderer\"},{\"attributes\":{\"source\":{\"id\":\"3684\"}},\"id\":\"3688\",\"type\":\"CDSView\"},{\"attributes\":{},\"id\":\"3506\",\"type\":\"Selection\"},{\"attributes\":{},\"id\":\"3703\",\"type\":\"Selection\"},{\"attributes\":{},\"id\":\"3702\",\"type\":\"UnionRenderers\"},{\"attributes\":{\"axis_label\":\"Training Dataset Size\",\"formatter\":{\"id\":\"3484\"},\"major_label_policy\":{\"id\":\"3483\"},\"ticker\":{\"id\":\"3420\"}},\"id\":\"3419\",\"type\":\"LinearAxis\"},{\"attributes\":{\"source\":{\"id\":\"3491\"}},\"id\":\"3495\",\"type\":\"CDSView\"},{\"attributes\":{},\"id\":\"3505\",\"type\":\"UnionRenderers\"},{\"attributes\":{\"toolbars\":[{\"id\":\"3434\"},{\"id\":\"3467\"}],\"tools\":[{\"id\":\"3427\"},{\"id\":\"3428\"},{\"id\":\"3429\"},{\"id\":\"3430\"},{\"id\":\"3431\"},{\"id\":\"3432\"},{\"id\":\"3460\"},{\"id\":\"3461\"},{\"id\":\"3462\"},{\"id\":\"3463\"},{\"id\":\"3464\"},{\"id\":\"3465\"}]},\"id\":\"3863\",\"type\":\"ProxyToolbar\"},{\"attributes\":{\"data\":{\"x\":[64,128,256,512,1024,2048],\"y\":[0.2880000174045563,0.20100000500679016,0.3190000057220459,0.5270000100135803,0.5330000519752502,0.6480000019073486]},\"selected\":{\"id\":\"3526\"},\"selection_policy\":{\"id\":\"3525\"}},\"id\":\"3509\",\"type\":\"ColumnDataSource\"},{\"attributes\":{\"line_color\":\"#ef8a62\",\"line_width\":2,\"x\":{\"field\":\"x\"},\"y\":{\"field\":\"y\"}},\"id\":\"3707\",\"type\":\"Line\"},{\"attributes\":{\"line_alpha\":0.1,\"line_color\":\"#F05223\",\"line_width\":2,\"x\":{\"field\":\"x\"},\"y\":{\"field\":\"y\"}},\"id\":\"3493\",\"type\":\"Line\"},{\"attributes\":{\"active_multi\":null,\"tools\":[{\"id\":\"3427\"},{\"id\":\"3428\"},{\"id\":\"3429\"},{\"id\":\"3430\"},{\"id\":\"3431\"},{\"id\":\"3432\"}]},\"id\":\"3434\",\"type\":\"Toolbar\"},{\"attributes\":{\"data\":{\"x\":[64,128,256,512,1024,2048],\"y\":[0.2510000169277191,0.29500001668930054,0.5800000429153442,0.6790000200271606,0.7690000534057617,0.8450000286102295]},\"selected\":{\"id\":\"3727\"},\"selection_policy\":{\"id\":\"3726\"}},\"id\":\"3706\",\"type\":\"ColumnDataSource\"},{\"attributes\":{\"text\":\"MNIST, NN\"},\"id\":\"3442\",\"type\":\"Title\"},{\"attributes\":{\"bottom_units\":\"screen\",\"fill_alpha\":0.5,\"fill_color\":\"lightgrey\",\"left_units\":\"screen\",\"level\":\"overlay\",\"line_alpha\":1.0,\"line_color\":\"black\",\"line_dash\":[4,4],\"line_width\":2,\"right_units\":\"screen\",\"syncable\":false,\"top_units\":\"screen\"},\"id\":\"3466\",\"type\":\"BoxAnnotation\"},{\"attributes\":{\"data\":{\"x\":[64,128,256,512,1024,2048],\"y\":[0.19600000977516174,0.08500000089406967,0.23900000751018524,0.38100001215934753,0.2720000147819519,0.4440000355243683]},\"selected\":{\"id\":\"3487\"},\"selection_policy\":{\"id\":\"3486\"}},\"id\":\"3474\",\"type\":\"ColumnDataSource\"},{\"attributes\":{},\"id\":\"3427\",\"type\":\"PanTool\"},{\"attributes\":{\"data\":{\"x\":[64,128,256,512,1024,2048],\"y\":[0.20200000703334808,0.08500000089406967,0.25,0.3920000195503235,0.29200002551078796,0.49400001764297485]},\"selected\":{\"id\":\"3506\"},\"selection_policy\":{\"id\":\"3505\"}},\"id\":\"3491\",\"type\":\"ColumnDataSource\"},{\"attributes\":{\"below\":[{\"id\":\"3452\"}],\"center\":[{\"id\":\"3455\"},{\"id\":\"3459\"},{\"id\":\"3644\"}],\"height\":30,\"left\":[{\"id\":\"3456\"}],\"renderers\":[{\"id\":\"3632\"},{\"id\":\"3649\"},{\"id\":\"3667\"},{\"id\":\"3687\"},{\"id\":\"3709\"},{\"id\":\"3733\"},{\"id\":\"3789\"}],\"sizing_mode\":\"scale_both\",\"title\":{\"id\":\"3442\"},\"toolbar\":{\"id\":\"3467\"},\"toolbar_location\":null,\"width\":40,\"x_range\":{\"id\":\"3444\"},\"x_scale\":{\"id\":\"3448\"},\"y_range\":{\"id\":\"3446\"},\"y_scale\":{\"id\":\"3450\"}},\"id\":\"3441\",\"subtype\":\"Figure\",\"type\":\"Plot\"},{\"attributes\":{\"line_alpha\":0.1,\"line_color\":\"#EC1557\",\"line_width\":2,\"x\":{\"field\":\"x\"},\"y\":{\"field\":\"y\"}},\"id\":\"3476\",\"type\":\"Line\"},{\"attributes\":{\"line_alpha\":0.1,\"line_color\":\"#ef8a62\",\"line_width\":2,\"x\":{\"field\":\"x\"},\"y\":{\"field\":\"y\"}},\"id\":\"3708\",\"type\":\"Line\"},{\"attributes\":{},\"id\":\"3432\",\"type\":\"HelpTool\"},{\"attributes\":{\"label\":{\"value\":\"NN width: 1024\"},\"renderers\":[{\"id\":\"3709\"}]},\"id\":\"3729\",\"type\":\"LegendItem\"},{\"attributes\":{},\"id\":\"3726\",\"type\":\"UnionRenderers\"},{\"attributes\":{\"data_source\":{\"id\":\"3474\"},\"glyph\":{\"id\":\"3475\"},\"hover_glyph\":null,\"muted_glyph\":null,\"nonselection_glyph\":{\"id\":\"3476\"},\"view\":{\"id\":\"3478\"}},\"id\":\"3477\",\"type\":\"GlyphRenderer\"},{\"attributes\":{\"data_source\":{\"id\":\"3706\"},\"glyph\":{\"id\":\"3707\"},\"hover_glyph\":null,\"muted_glyph\":null,\"nonselection_glyph\":{\"id\":\"3708\"},\"view\":{\"id\":\"3710\"}},\"id\":\"3709\",\"type\":\"GlyphRenderer\"},{\"attributes\":{},\"id\":\"3430\",\"type\":\"SaveTool\"},{\"attributes\":{\"source\":{\"id\":\"3474\"}},\"id\":\"3478\",\"type\":\"CDSView\"},{\"attributes\":{\"source\":{\"id\":\"3706\"}},\"id\":\"3710\",\"type\":\"CDSView\"},{\"attributes\":{},\"id\":\"3480\",\"type\":\"AllLabels\"},{\"attributes\":{\"children\":[[{\"id\":\"3408\"},0,0],[{\"id\":\"3441\"},0,1]]},\"id\":\"3862\",\"type\":\"GridBox\"},{\"attributes\":{},\"id\":\"3431\",\"type\":\"ResetTool\"},{\"attributes\":{},\"id\":\"3727\",\"type\":\"Selection\"},{\"attributes\":{\"axis_label\":\"Test Accuracy\",\"formatter\":{\"id\":\"3481\"},\"major_label_policy\":{\"id\":\"3480\"},\"ticker\":{\"id\":\"3424\"}},\"id\":\"3423\",\"type\":\"LinearAxis\"},{\"attributes\":{},\"id\":\"3481\",\"type\":\"BasicTickFormatter\"},{\"attributes\":{},\"id\":\"3484\",\"type\":\"BasicTickFormatter\"},{\"attributes\":{\"data\":{\"x\":[64,128,256,512,1024,2048],\"y\":[0.22600001096725464,0.3790000081062317,0.6070000529289246,0.7000000476837158,0.7870000600814819,0.8580000400543213]},\"selected\":{\"id\":\"3753\"},\"selection_policy\":{\"id\":\"3752\"}},\"id\":\"3730\",\"type\":\"ColumnDataSource\"},{\"attributes\":{},\"id\":\"3483\",\"type\":\"AllLabels\"},{\"attributes\":{},\"id\":\"3428\",\"type\":\"WheelZoomTool\"},{\"attributes\":{\"line_color\":\"#b2182b\",\"line_width\":2,\"x\":{\"field\":\"x\"},\"y\":{\"field\":\"y\"}},\"id\":\"3731\",\"type\":\"Line\"}],\"root_ids\":[\"3865\"]},\"title\":\"Bokeh Application\",\"version\":\"2.3.3\"}};\n",
              "  var render_items = [{\"docid\":\"ae29b291-7b19-495d-8cf3-a8219393a07b\",\"root_ids\":[\"3865\"],\"roots\":{\"3865\":\"5b6dbcb7-c4ca-489f-a4d5-d551080d0cd0\"}}];\n",
              "  root.Bokeh.embed.embed_items_notebook(docs_json, render_items);\n",
              "\n",
              "  }\n",
              "  if (root.Bokeh !== undefined) {\n",
              "    embed_document(root);\n",
              "  } else {\n",
              "    var attempts = 0;\n",
              "    var timer = setInterval(function(root) {\n",
              "      if (root.Bokeh !== undefined) {\n",
              "        clearInterval(timer);\n",
              "        embed_document(root);\n",
              "      } else {\n",
              "        attempts++;\n",
              "        if (attempts > 100) {\n",
              "          clearInterval(timer);\n",
              "          console.log(\"Bokeh: ERROR: Unable to run BokehJS code because BokehJS library is missing\");\n",
              "        }\n",
              "      }\n",
              "    }, 10, root)\n",
              "  }\n",
              "})(window);"
            ],
            "application/vnd.bokehjs_exec.v0+json": ""
          },
          "metadata": {
            "application/vnd.bokehjs_exec.v0+json": {
              "id": "3865"
            }
          }
        }
      ]
    }
  ],
  "metadata": {
    "kernelspec": {
      "display_name": "Python 3",
      "name": "python3"
    },
    "language_info": {
      "name": "python"
    },
    "colab": {
      "name": "NTK-MNIST.ipynb",
      "provenance": [],
      "collapsed_sections": [],
      "include_colab_link": true
    },
    "accelerator": "GPU",
    "gpuClass": "standard"
  },
  "nbformat": 4,
  "nbformat_minor": 5
}